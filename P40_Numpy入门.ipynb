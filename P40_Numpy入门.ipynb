{
 "cells": [
  {
   "cell_type": "markdown",
   "id": "5a9b972f-356c-4861-abdd-35e5187f639f",
   "metadata": {},
   "source": [
    "**写出导入numpy的语句，并且给numpy别名为np**"
   ]
  },
  {
   "cell_type": "code",
   "execution_count": 1,
   "id": "8cb92389-2722-4e76-bab5-9186d2fb1402",
   "metadata": {},
   "outputs": [],
   "source": [
    "import numpy as np"
   ]
  },
  {
   "cell_type": "markdown",
   "id": "8bb2ab2e-03bf-4213-93a1-bb377af08117",
   "metadata": {},
   "source": [
    "**创建一个变量名为arr1的一维数组，里面的元素为整数6、2、-7、2、8、-2、1。创建后输出arr1**"
   ]
  },
  {
   "cell_type": "code",
   "execution_count": 2,
   "id": "c613d874-0d61-4bba-b255-8cc85c669842",
   "metadata": {},
   "outputs": [
    {
     "data": {
      "text/plain": [
       "array([ 6,  2, -7,  2,  8, -2,  1])"
      ]
     },
     "execution_count": 2,
     "metadata": {},
     "output_type": "execute_result"
    }
   ],
   "source": [
    "arr1 = np.array([6,2,-7,2,8,-2,1])\n",
    "arr1"
   ]
  },
  {
   "cell_type": "markdown",
   "id": "de5c27cc-eedb-4002-9d6b-58ddc1885dab",
   "metadata": {},
   "source": [
    "**创建一个变量名为arr2的二维数组，里面的元素为一下两个数组：由整数1、3、5组成的一维数组，以及由整数2、4、6组成的一维数组。创建后输出arr2**"
   ]
  },
  {
   "cell_type": "code",
   "execution_count": 3,
   "id": "2c6b6913-1ccc-4b6d-8409-4419d0f75d85",
   "metadata": {},
   "outputs": [
    {
     "data": {
      "text/plain": [
       "array([[1, 3, 5],\n",
       "       [2, 4, 6]])"
      ]
     },
     "execution_count": 3,
     "metadata": {},
     "output_type": "execute_result"
    }
   ],
   "source": [
    "arr2 = np.array([[1,3,5],[2,4,6]])\n",
    "arr2"
   ]
  },
  {
   "cell_type": "markdown",
   "id": "14d065ee-16c1-4492-93ac-d1afeeddb9f8",
   "metadata": {},
   "source": [
    "**分别打印arr1和arr2的维度、形状、元素数量、元素类型。**"
   ]
  },
  {
   "cell_type": "code",
   "execution_count": 4,
   "id": "9643b9b6-35d9-40cc-8b8c-2c61f3acc1ba",
   "metadata": {},
   "outputs": [
    {
     "name": "stdout",
     "output_type": "stream",
     "text": [
      "1\n",
      "2\n",
      "(7,)\n",
      "(2, 3)\n",
      "7\n",
      "6\n",
      "int32\n",
      "int32\n"
     ]
    }
   ],
   "source": [
    "print(arr1.ndim) \n",
    "print(arr2.ndim) \n",
    "print(arr1.shape) \n",
    "print(arr2.shape)\n",
    "print(arr1.size) \n",
    "print(arr2.size)\n",
    "print(arr1.dtype)\n",
    "print(arr2.dtype)"
   ]
  },
  {
   "cell_type": "markdown",
   "id": "d46a14bd-988d-4a5a-a7e4-d02ee7ec38cb",
   "metadata": {},
   "source": [
    "**创建一个变量名为arr_all_0的一维数组，里面的元素为6个0，并输出**"
   ]
  },
  {
   "cell_type": "code",
   "execution_count": 5,
   "id": "e205990a-6082-4854-a473-5629ef805485",
   "metadata": {},
   "outputs": [
    {
     "data": {
      "text/plain": [
       "array([0., 0., 0., 0., 0., 0.])"
      ]
     },
     "execution_count": 5,
     "metadata": {},
     "output_type": "execute_result"
    }
   ],
   "source": [
    "arr_all_0 = np.zeros(6)\n",
    "arr_all_0"
   ]
  },
  {
   "cell_type": "markdown",
   "id": "ca074c8c-f913-42c0-8aea-0a54446db167",
   "metadata": {},
   "source": [
    "**创建一个变量名为arr_all_1的一维数组，里面的元素为6个1，并输出**"
   ]
  },
  {
   "cell_type": "code",
   "execution_count": 6,
   "id": "3b3c83e5-a018-4507-a56d-5d76bc9aa381",
   "metadata": {},
   "outputs": [
    {
     "data": {
      "text/plain": [
       "array([1., 1., 1., 1., 1., 1.])"
      ]
     },
     "execution_count": 6,
     "metadata": {},
     "output_type": "execute_result"
    }
   ],
   "source": [
    "arr_all_1 = np.ones(6)\n",
    "arr_all_1"
   ]
  },
  {
   "cell_type": "markdown",
   "id": "569c8476-e746-41be-915f-bda4ce4065c4",
   "metadata": {},
   "source": [
    "**创建一个变量名为arr_even的一维数组，里面的元素为10（包括10）到20（包括20）之间的偶数，并输出**"
   ]
  },
  {
   "cell_type": "code",
   "execution_count": 8,
   "id": "ec45a0a6-bb29-43f6-8b93-7674ffed5e4a",
   "metadata": {},
   "outputs": [
    {
     "data": {
      "text/plain": [
       "array([10, 12, 14, 16, 18, 20])"
      ]
     },
     "execution_count": 8,
     "metadata": {},
     "output_type": "execute_result"
    }
   ],
   "source": [
    "arr_even = np.arange(10,21,2)\n",
    "arr_even"
   ]
  },
  {
   "cell_type": "code",
   "execution_count": null,
   "id": "1ed2be36-ad3a-4c77-9316-3980c277b3a9",
   "metadata": {},
   "outputs": [],
   "source": []
  }
 ],
 "metadata": {
  "kernelspec": {
   "display_name": "Python 3 (ipykernel)",
   "language": "python",
   "name": "python3"
  },
  "language_info": {
   "codemirror_mode": {
    "name": "ipython",
    "version": 3
   },
   "file_extension": ".py",
   "mimetype": "text/x-python",
   "name": "python",
   "nbconvert_exporter": "python",
   "pygments_lexer": "ipython3",
   "version": "3.12.3"
  }
 },
 "nbformat": 4,
 "nbformat_minor": 5
}
