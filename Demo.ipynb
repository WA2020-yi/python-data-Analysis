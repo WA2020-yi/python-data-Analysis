{
 "cells": [
  {
   "cell_type": "markdown",
   "id": "48d42b1d-926b-4e59-8e5f-c8b7f6a71916",
   "metadata": {},
   "source": [
    "# 标题"
   ]
  },
  {
   "cell_type": "markdown",
   "id": "9b782cbf-e124-4052-881d-d1b874fa9344",
   "metadata": {},
   "source": [
    "**粗体**"
   ]
  },
  {
   "cell_type": "markdown",
   "id": "49fc7ce5-6d56-423d-8af6-b3009fba5d77",
   "metadata": {},
   "source": [
    "*斜体*"
   ]
  },
  {
   "cell_type": "markdown",
   "id": "a797097c-1fea-4ccc-97a2-6d70f56bbaf4",
   "metadata": {},
   "source": [
    "~删除~"
   ]
  },
  {
   "cell_type": "markdown",
   "id": "a8cfea7b-c8f6-473f-a2ff-7b3992e4aa17",
   "metadata": {},
   "source": [
    "~~删除~~"
   ]
  },
  {
   "cell_type": "markdown",
   "id": "78d3a3f0-96ee-472b-84f3-a4ecace3b669",
   "metadata": {},
   "source": [
    "加两空格  \n",
    "换行"
   ]
  },
  {
   "cell_type": "markdown",
   "id": "faec28af-8658-42b5-8143-5470da2bb2e4",
   "metadata": {},
   "source": [
    "直接两回车\n",
    "\n",
    "换行"
   ]
  },
  {
   "cell_type": "markdown",
   "id": "52a35f67-0e41-400c-9a76-2e9000bb0bb9",
   "metadata": {},
   "source": [
    "- 无序列表"
   ]
  },
  {
   "cell_type": "markdown",
   "id": "ef5aead5-a648-4484-866f-19300f804b53",
   "metadata": {},
   "source": [
    "1. 有序列表"
   ]
  },
  {
   "cell_type": "markdown",
   "id": "9b69a5d0-d2a0-4185-b386-c67da9487063",
   "metadata": {},
   "source": [
    "[网页地址](https://space.bilibili.com/523995133)"
   ]
  },
  {
   "cell_type": "markdown",
   "id": "8f5460ec-b29f-451f-93ac-02fb6d840cd5",
   "metadata": {},
   "source": [
    "![城市景观](https://img0.baidu.com/it/u=25183460,870873689&fm=253)"
   ]
  },
  {
   "cell_type": "markdown",
   "id": "edcf6295-2a65-45a2-8272-36b54a369df0",
   "metadata": {},
   "source": [
    "> 蒹葭苍苍  \n",
    "> 白露为霜"
   ]
  },
  {
   "cell_type": "markdown",
   "id": "d5dd3591-5877-454c-bb29-a14509528e16",
   "metadata": {},
   "source": [
    "```python\n",
    "import math\n",
    "print(\"hello world\")\n",
    "print(math.pi)\n",
    "```"
   ]
  },
  {
   "cell_type": "markdown",
   "id": "1d239764-d60c-49e9-909c-56b46b6a34e6",
   "metadata": {},
   "source": [
    "这是一个公式：$y=x+3$"
   ]
  },
  {
   "cell_type": "markdown",
   "id": "295f84d7-b525-4b4b-9dab-4bc68ccabde7",
   "metadata": {},
   "source": [
    "独行公式：$$y=x+3$$"
   ]
  },
  {
   "cell_type": "markdown",
   "id": "2c711192-7893-4d02-b3e9-6d2da16a0895",
   "metadata": {},
   "source": [
    "$$x\\times y$$"
   ]
  },
  {
   "cell_type": "markdown",
   "id": "4df6c682-5fec-4dca-b19c-0d82d24fc99b",
   "metadata": {},
   "source": [
    "$$x\\div y$$"
   ]
  },
  {
   "cell_type": "markdown",
   "id": "9349c03a-5d1f-4744-8cfc-e4bbe73e4fe2",
   "metadata": {},
   "source": [
    "$$x^3$$"
   ]
  },
  {
   "cell_type": "markdown",
   "id": "e4c88567-f77f-4477-bf69-dd15a01df33d",
   "metadata": {},
   "source": [
    "$$H_2O$$"
   ]
  },
  {
   "cell_type": "markdown",
   "id": "415eda65-2275-4c48-bbd0-e147bc55d847",
   "metadata": {},
   "source": [
    "$$S_{input}$$"
   ]
  },
  {
   "cell_type": "markdown",
   "id": "e6cff835-e1e5-4110-b8cd-e287142a3d9a",
   "metadata": {},
   "source": [
    "$$\\sum(x^2+y^2)$$"
   ]
  },
  {
   "cell_type": "markdown",
   "id": "3a333250-d429-4a11-a59c-2b17f9bddc60",
   "metadata": {},
   "source": [
    "$$\\sqrt[3]x$$"
   ]
  },
  {
   "cell_type": "markdown",
   "id": "832b68a0-749b-40d3-ad80-bab669264c54",
   "metadata": {},
   "source": [
    "$$\\sqrt[3]{a^2m^2}$$"
   ]
  },
  {
   "cell_type": "markdown",
   "id": "722cb973-88ea-421f-a288-5ce8c5f0aa91",
   "metadata": {},
   "source": [
    "$$\\frac{x+y}{x-y}$$"
   ]
  },
  {
   "cell_type": "code",
   "execution_count": null,
   "id": "bd4fc10f-dac2-4547-bcfa-9064f42b698a",
   "metadata": {},
   "outputs": [],
   "source": []
  }
 ],
 "metadata": {
  "kernelspec": {
   "display_name": "Python 3 (ipykernel)",
   "language": "python",
   "name": "python3"
  },
  "language_info": {
   "codemirror_mode": {
    "name": "ipython",
    "version": 3
   },
   "file_extension": ".py",
   "mimetype": "text/x-python",
   "name": "python",
   "nbconvert_exporter": "python",
   "pygments_lexer": "ipython3",
   "version": "3.12.3"
  }
 },
 "nbformat": 4,
 "nbformat_minor": 5
}
