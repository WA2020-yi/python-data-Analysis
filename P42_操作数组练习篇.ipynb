{
 "cells": [
  {
   "cell_type": "markdown",
   "id": "b7fba41d-bbd8-41dd-9d7f-e4542f789363",
   "metadata": {},
   "source": [
    "**写出导入numpy的语句，并且给numpy别名为np**"
   ]
  },
  {
   "cell_type": "code",
   "execution_count": 1,
   "id": "5df52b4e-baca-4130-b024-ef56adf2ea7a",
   "metadata": {},
   "outputs": [],
   "source": [
    "import numpy as np"
   ]
  },
  {
   "cell_type": "markdown",
   "id": "29bd8bb7-2630-4982-930e-86752a27180b",
   "metadata": {},
   "source": [
    "**创建arr1为包含了元素1、3、2、4、9的数组，创建arr2为长度为5的由1组成的一维数组，arr3为长度为3的由0组成的一维数组**"
   ]
  },
  {
   "cell_type": "code",
   "execution_count": 2,
   "id": "d3739b31-5cc6-4ed4-87f1-87f91f90137f",
   "metadata": {},
   "outputs": [],
   "source": [
    "arr1 = np.array([1,3,2,4,9])\n",
    "arr2 = np.ones(5)\n",
    "arr3 = np.zeros(3)"
   ]
  },
  {
   "cell_type": "markdown",
   "id": "3e744110-d410-4e77-9aeb-065e73fa8b64",
   "metadata": {},
   "source": [
    "**创建数组arr4，包括所有arr1、arr2、arr3里面的数字，并输出**"
   ]
  },
  {
   "cell_type": "code",
   "execution_count": 3,
   "id": "2afc2848-7396-4891-b42a-6b5357eb487d",
   "metadata": {},
   "outputs": [
    {
     "data": {
      "text/plain": [
       "array([1., 3., 2., 4., 9., 1., 1., 1., 1., 1., 0., 0., 0.])"
      ]
     },
     "execution_count": 3,
     "metadata": {},
     "output_type": "execute_result"
    }
   ],
   "source": [
    "arr4 = np.concatenate([arr1,arr2,arr3])\n",
    "arr4"
   ]
  },
  {
   "cell_type": "markdown",
   "id": "2a47a37a-420b-43fd-854a-cdc7ec8b9485",
   "metadata": {},
   "source": [
    "**更改arr1，对arr1里的元素进行排序，并输出排序后的结果**"
   ]
  },
  {
   "cell_type": "code",
   "execution_count": 4,
   "id": "68354a40-07f8-40b4-9c5d-d16c935ce838",
   "metadata": {},
   "outputs": [
    {
     "data": {
      "text/plain": [
       "array([1, 2, 3, 4, 9])"
      ]
     },
     "execution_count": 4,
     "metadata": {},
     "output_type": "execute_result"
    }
   ],
   "source": [
    "arr1.sort()\n",
    "arr1"
   ]
  },
  {
   "cell_type": "markdown",
   "id": "257a43fc-4125-4ed8-9105-333fff6771ee",
   "metadata": {},
   "source": [
    "**用两种方法打印arr1的第三个元素**"
   ]
  },
  {
   "cell_type": "code",
   "execution_count": 7,
   "id": "b0efdcb7-d100-4be2-a0db-81261147f6e4",
   "metadata": {},
   "outputs": [
    {
     "name": "stdout",
     "output_type": "stream",
     "text": [
      "3\n",
      "3\n"
     ]
    }
   ],
   "source": [
    "print(arr1[2])\n",
    "print(arr1[-3])"
   ]
  },
  {
   "cell_type": "markdown",
   "id": "098eef38-8f2c-4b1a-aa4e-0f3a08e40a47",
   "metadata": {},
   "source": [
    "**输出从arr1第2个元素到第4个元素组成的数组**"
   ]
  },
  {
   "cell_type": "code",
   "execution_count": 9,
   "id": "678e7cd1-879f-4eaa-947a-53d299759b7d",
   "metadata": {},
   "outputs": [
    {
     "data": {
      "text/plain": [
       "array([2, 3, 4])"
      ]
     },
     "execution_count": 9,
     "metadata": {},
     "output_type": "execute_result"
    }
   ],
   "source": [
    "arr1[1:4]"
   ]
  },
  {
   "cell_type": "markdown",
   "id": "1eb22555-cd47-4e18-8369-c3433d131fd6",
   "metadata": {},
   "source": [
    "**输出arr1与arr2的同位置元素相加后组成的数组**"
   ]
  },
  {
   "cell_type": "code",
   "execution_count": 10,
   "id": "55e261cd-33ea-4ace-a251-abea2f2da5c9",
   "metadata": {},
   "outputs": [
    {
     "data": {
      "text/plain": [
       "array([ 2.,  3.,  4.,  5., 10.])"
      ]
     },
     "execution_count": 10,
     "metadata": {},
     "output_type": "execute_result"
    }
   ],
   "source": [
    "arr1 + arr2"
   ]
  },
  {
   "cell_type": "markdown",
   "id": "a61f9a3a-1df4-408f-b169-b1861c6b5f26",
   "metadata": {},
   "source": [
    "**输出arr1的各个元素乘以-5后组成的数组**"
   ]
  },
  {
   "cell_type": "code",
   "execution_count": 11,
   "id": "ba0df426-6795-46b7-88b4-77983397b75c",
   "metadata": {},
   "outputs": [
    {
     "data": {
      "text/plain": [
       "array([ -5, -10, -15, -20, -45])"
      ]
     },
     "execution_count": 11,
     "metadata": {},
     "output_type": "execute_result"
    }
   ],
   "source": [
    "arr1 * -5"
   ]
  },
  {
   "cell_type": "markdown",
   "id": "4bec4519-7c17-42b7-b5c3-30fd3d51a378",
   "metadata": {},
   "source": [
    "**打印arr1数组的最大值、最小值、和、平均值**"
   ]
  },
  {
   "cell_type": "code",
   "execution_count": 14,
   "id": "5e35df60-b79f-4a79-a515-b4eec2a639e8",
   "metadata": {},
   "outputs": [
    {
     "name": "stdout",
     "output_type": "stream",
     "text": [
      "9\n",
      "1\n",
      "19\n",
      "3.8\n"
     ]
    }
   ],
   "source": [
    "print(arr1.max())\n",
    "print(arr1.min())\n",
    "print(arr1.sum())\n",
    "print(arr1.mean())"
   ]
  },
  {
   "cell_type": "markdown",
   "id": "c0e13e4f-f2ec-4842-9ce0-fd8d0306ca4b",
   "metadata": {},
   "source": [
    "**筛选出arr1数组里所有小于或大于3的数字，并打印出来**"
   ]
  },
  {
   "cell_type": "code",
   "execution_count": 16,
   "id": "804117f8-dcee-4975-a160-b5af8da97b16",
   "metadata": {},
   "outputs": [
    {
     "data": {
      "text/plain": [
       "array([4, 9])"
      ]
     },
     "execution_count": 16,
     "metadata": {},
     "output_type": "execute_result"
    }
   ],
   "source": [
    "arr1[(arr1<1)|(arr1>3)]"
   ]
  },
  {
   "cell_type": "code",
   "execution_count": null,
   "id": "042daa39-1591-41b4-8308-0f6d39c1e407",
   "metadata": {},
   "outputs": [],
   "source": []
  }
 ],
 "metadata": {
  "kernelspec": {
   "display_name": "Python 3 (ipykernel)",
   "language": "python",
   "name": "python3"
  },
  "language_info": {
   "codemirror_mode": {
    "name": "ipython",
    "version": 3
   },
   "file_extension": ".py",
   "mimetype": "text/x-python",
   "name": "python",
   "nbconvert_exporter": "python",
   "pygments_lexer": "ipython3",
   "version": "3.12.3"
  }
 },
 "nbformat": 4,
 "nbformat_minor": 5
}
