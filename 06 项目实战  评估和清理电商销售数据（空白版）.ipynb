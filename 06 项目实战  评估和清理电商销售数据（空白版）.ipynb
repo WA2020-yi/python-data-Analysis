{
 "cells": [
  {
   "cell_type": "markdown",
   "id": "fe78251f-6910-4a03-a33c-6bac23643089",
   "metadata": {},
   "source": [
    "# **项目：评估和清理英国电商公司销售数据**"
   ]
  },
  {
   "cell_type": "markdown",
   "id": "3643a129-afdd-497b-bea2-bb9b0ae518c7",
   "metadata": {},
   "source": [
    "### **分析目标**\n",
    "\n",
    "此数据分析的目的是，根据市场销售数据，挖掘畅销产品，以便制定更有效的市场策略来提升营收。\n",
    "\n",
    "本实战项目的目的在于练习评估数据干净和整洁度，并且基于评估结果，对数据进行清洗，从而得到可供下一步分析的数据。\n",
    "\n",
    "\n",
    "### **简介**\n",
    "\n",
    "原始数据集记录了一家英国在线零售公司在2010年12月1日至2011年12月9日期间的所有交易情况，涵盖了该公司在全球不同国家和地区的业务数据。该公司主要销售覆盖各个场景的礼品，包括但不限于生日礼品、结婚纪念品、圣诞礼品等等。该公司的客户群体主要包括批发商和个人消费者，其中批发商占据了相当大的比例。\n",
    "\n",
    "\n",
    "数据每列含义如下：\n",
    "\n",
    "- InvoiceNo：发票号码。6位数，作为交易的唯一标识符。如果这个代码以字母\"c\"开头，表示这笔交易被取消。\n",
    "- StockCode：产品代码。5位数，作为产品的唯一标识符。\n",
    "- Description：产品名称。\n",
    "- Quantity：产品在交易中的数量。\n",
    "- InvoiceDate：发票日期和时间。交易发生的日期和时间。\n",
    "- UnitPrice：单价。价格单位为英镑（£）。\n",
    "- CustomerID：客户编号。5位数，作为客户的唯一标识符。\n",
    "- Country：国家名称。客户所居住的国家的名称。\n",
    "\n",
    "\n",
    "\n"
   ]
  },
  {
   "cell_type": "markdown",
   "id": "6ab35ec9-0216-45d7-bed1-ed0e68d04aef",
   "metadata": {},
   "source": [
    "## **读取数据**"
   ]
  },
  {
   "cell_type": "code",
   "execution_count": null,
   "id": "93b254ca-b6bf-413f-8bca-e4d4c75394e9",
   "metadata": {},
   "outputs": [],
   "source": []
  },
  {
   "cell_type": "markdown",
   "id": "d5317317-779e-4e5b-80df-7b2789019e9b",
   "metadata": {},
   "source": [
    "## **评估数据**"
   ]
  },
  {
   "cell_type": "code",
   "execution_count": null,
   "id": "328aef20-21e1-4ddc-8188-b2fe3ff1b232",
   "metadata": {},
   "outputs": [],
   "source": []
  },
  {
   "cell_type": "markdown",
   "id": "aaf2080a-ef09-4c86-8860-3e053b30757d",
   "metadata": {},
   "source": [
    "## **清理数据**"
   ]
  },
  {
   "cell_type": "code",
   "execution_count": null,
   "id": "856884a8-0115-4c95-ac5f-39253f03c796",
   "metadata": {},
   "outputs": [],
   "source": []
  },
  {
   "cell_type": "markdown",
   "id": "b5643bac-c9b1-46b7-b024-f1ed58559a1e",
   "metadata": {},
   "source": [
    "## **保存清理后的数据**"
   ]
  },
  {
   "cell_type": "code",
   "execution_count": null,
   "id": "e814395d-965e-4ea3-be1b-282ef639c2e3",
   "metadata": {},
   "outputs": [],
   "source": []
  }
 ],
 "metadata": {
  "kernelspec": {
   "display_name": "Python 3 (ipykernel)",
   "language": "python",
   "name": "python3"
  },
  "language_info": {
   "codemirror_mode": {
    "name": "ipython",
    "version": 3
   },
   "file_extension": ".py",
   "mimetype": "text/x-python",
   "name": "python",
   "nbconvert_exporter": "python",
   "pygments_lexer": "ipython3",
   "version": "3.11.7"
  }
 },
 "nbformat": 4,
 "nbformat_minor": 5
}
