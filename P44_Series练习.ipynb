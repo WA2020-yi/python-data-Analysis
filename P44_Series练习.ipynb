{
 "cells": [
  {
   "cell_type": "markdown",
   "id": "706adcec-0858-4d0e-a108-ea0885415f36",
   "metadata": {},
   "source": [
    "**写出导入pandas的语句，并且给pandas别名为pd**"
   ]
  },
  {
   "cell_type": "code",
   "execution_count": 1,
   "id": "c3450666-2239-4592-9311-fbadd990629f",
   "metadata": {},
   "outputs": [],
   "source": [
    "import pandas as pd"
   ]
  },
  {
   "cell_type": "markdown",
   "id": "df04c0cd-92cf-4ca8-9ef4-1394f1c48875",
   "metadata": {},
   "source": [
    "**创建一个叫s1的Series，里面包含元素-1.2、3.7、2.5、-8.2、6.3。创建后进行输出**"
   ]
  },
  {
   "cell_type": "code",
   "execution_count": 2,
   "id": "9b28269f-96ea-4b5a-8dcb-6754fecb2d4b",
   "metadata": {},
   "outputs": [
    {
     "data": {
      "text/plain": [
       "0   -1.2\n",
       "1    3.7\n",
       "2    2.5\n",
       "3   -8.2\n",
       "4    6.3\n",
       "dtype: float64"
      ]
     },
     "execution_count": 2,
     "metadata": {},
     "output_type": "execute_result"
    }
   ],
   "source": [
    "s1 = pd.Series([-1.2,3.7,2.5,-8.2,6.3])\n",
    "s1"
   ]
  },
  {
   "cell_type": "markdown",
   "id": "7ecd219a-1090-4635-9cdf-17c8dc98e211",
   "metadata": {},
   "source": [
    "**打印s1的所有索引以及所有元素值**"
   ]
  },
  {
   "cell_type": "code",
   "execution_count": 3,
   "id": "8d4831e8-aa61-48f3-904b-53a3ef25c04d",
   "metadata": {},
   "outputs": [
    {
     "name": "stdout",
     "output_type": "stream",
     "text": [
      "RangeIndex(start=0, stop=5, step=1)\n",
      "[-1.2  3.7  2.5 -8.2  6.3]\n"
     ]
    }
   ],
   "source": [
    "print(s1.index)\n",
    "print(s1.values)"
   ]
  },
  {
   "cell_type": "markdown",
   "id": "903777a2-5a40-412a-a989-7a215096b36c",
   "metadata": {},
   "source": [
    "**创建一个叫s2的Series，里面包含元素1、2、3、4、5，并且对应索引5、4、3、2、1。创建后进行输出**"
   ]
  },
  {
   "cell_type": "code",
   "execution_count": 4,
   "id": "0ed70b83-3f11-4969-b332-75e52f4aa334",
   "metadata": {},
   "outputs": [
    {
     "data": {
      "text/plain": [
       "5    1\n",
       "4    2\n",
       "3    3\n",
       "2    4\n",
       "1    5\n",
       "dtype: int64"
      ]
     },
     "execution_count": 4,
     "metadata": {},
     "output_type": "execute_result"
    }
   ],
   "source": [
    "s2 = pd.Series([1,2,3,4,5],index = [5,4,3,2,1])\n",
    "s2"
   ]
  },
  {
   "cell_type": "markdown",
   "id": "36687181-6373-4c9b-9fd6-4cc1c2e44fe0",
   "metadata": {},
   "source": [
    "**输出s2里按位置顺序排在第2个的元素。**"
   ]
  },
  {
   "cell_type": "code",
   "execution_count": 7,
   "id": "6cab27cb-f329-4880-b6d1-24929e1316c2",
   "metadata": {},
   "outputs": [
    {
     "data": {
      "text/plain": [
       "2"
      ]
     },
     "execution_count": 7,
     "metadata": {},
     "output_type": "execute_result"
    }
   ],
   "source": [
    "s2.iloc[1]"
   ]
  },
  {
   "cell_type": "markdown",
   "id": "49ba42e1-cc88-4126-b223-6ce2a75ae4c0",
   "metadata": {},
   "source": [
    "**输出s2里按标签对应从5到3（包括3）范围内的元素**"
   ]
  },
  {
   "cell_type": "code",
   "execution_count": 16,
   "id": "b154da73-4111-4089-ae6e-64a820294665",
   "metadata": {},
   "outputs": [
    {
     "data": {
      "text/plain": [
       "5    1\n",
       "4    2\n",
       "3    3\n",
       "dtype: int64"
      ]
     },
     "execution_count": 16,
     "metadata": {},
     "output_type": "execute_result"
    }
   ],
   "source": [
    "s2.loc[5:3]"
   ]
  },
  {
   "cell_type": "markdown",
   "id": "0772653a-b582-4788-9301-1366ebc3b874",
   "metadata": {},
   "source": [
    "**通过一个字典来创建Series s3。字典的键为：小李、小陈、小张、小曾、小邓，值为82、93、91、78、68。创建后进行输出。**"
   ]
  },
  {
   "cell_type": "code",
   "execution_count": 12,
   "id": "dcd75735-d959-46c3-a957-ef0e70a22499",
   "metadata": {},
   "outputs": [
    {
     "data": {
      "text/plain": [
       "小李    82\n",
       "小陈    93\n",
       "小张    91\n",
       "小曾    78\n",
       "小邓    68\n",
       "dtype: int64"
      ]
     },
     "execution_count": 12,
     "metadata": {},
     "output_type": "execute_result"
    }
   ],
   "source": [
    "s3 = pd.Series({\"小李\":82,\"小陈\":93,\"小张\":91,\"小曾\":78,\"小邓\":68})\n",
    "s3"
   ]
  },
  {
   "cell_type": "markdown",
   "id": "7349590e-a372-4643-99b8-c40ed587742f",
   "metadata": {},
   "source": [
    "**把s3里小张标签对应的值改为95，在输出s3。**"
   ]
  },
  {
   "cell_type": "code",
   "execution_count": 13,
   "id": "bb256467-b8ef-4b36-963e-4a807c6d218e",
   "metadata": {},
   "outputs": [
    {
     "data": {
      "text/plain": [
       "小李    82\n",
       "小陈    93\n",
       "小张    95\n",
       "小曾    78\n",
       "小邓    68\n",
       "dtype: int64"
      ]
     },
     "execution_count": 13,
     "metadata": {},
     "output_type": "execute_result"
    }
   ],
   "source": [
    "s3.loc[\"小张\"] = 95\n",
    "s3"
   ]
  },
  {
   "cell_type": "markdown",
   "id": "02e5b595-0b40-4e9e-8a25-424c9b6e779e",
   "metadata": {},
   "source": [
    "**输出s3里所有值大于80且小于90的元素。**"
   ]
  },
  {
   "cell_type": "code",
   "execution_count": 17,
   "id": "0788008d-89b2-4caa-abc3-04af19c9a173",
   "metadata": {},
   "outputs": [
    {
     "data": {
      "text/plain": [
       "小李    82\n",
       "dtype: int64"
      ]
     },
     "execution_count": 17,
     "metadata": {},
     "output_type": "execute_result"
    }
   ],
   "source": [
    "s3[(s3>80)&(s3<90)]"
   ]
  }
 ],
 "metadata": {
  "kernelspec": {
   "display_name": "Python 3 (ipykernel)",
   "language": "python",
   "name": "python3"
  },
  "language_info": {
   "codemirror_mode": {
    "name": "ipython",
    "version": 3
   },
   "file_extension": ".py",
   "mimetype": "text/x-python",
   "name": "python",
   "nbconvert_exporter": "python",
   "pygments_lexer": "ipython3",
   "version": "3.12.3"
  }
 },
 "nbformat": 4,
 "nbformat_minor": 5
}
